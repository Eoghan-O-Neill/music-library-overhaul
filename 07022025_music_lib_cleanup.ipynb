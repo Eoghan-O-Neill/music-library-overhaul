{
 "cells": [
  {
   "cell_type": "markdown",
   "id": "270a2c1a",
   "metadata": {},
   "source": [
    "This is a project designed to clean up my music library, compare different (automated and not automated) methods for adding metadata, create a database of all the music included in the library, visualise this data, build and automated pipeline for music downloading.\n",
    "\n",
    "2 Parts\n",
    "\n",
    "Compare Metadata Methods\n",
    "- Manual - Go through each mp3 file and manually add in metadata, log this metadata in an excel sheet.\n",
    "- Automated - Compare (part of) the audio file to candidate audio files using audio fingerprinting. Two potential ways:\n",
    "    - [Dejavu](https://github.com/worldveil/dejavu) - Set up yourself.\n",
    "    - [ACRCloud](https://docs.acrcloud.com/reference/identification-api) - Identification API.\n",
    "    \n",
    "Automate Music Download Pipeline\n",
    "- Take Spotify or other music service playlist as input. \n",
    "- Search for each song in SoulSeek. Use an [API](https://www.reddit.com/r/Soulseek/comments/9tdruw/soulseek_api/)? Or [other Automated approach](https://github.com/jpdillingham/Soulseek.NET)? \n",
    "- Download high quality version of song.\n",
    "- Save in folder to be manually tagged and added to more specific folders. "
   ]
  },
  {
   "cell_type": "code",
   "execution_count": null,
   "id": "1f569a5f",
   "metadata": {},
   "outputs": [],
   "source": []
  }
 ],
 "metadata": {
  "kernelspec": {
   "display_name": "music_lib_venv",
   "language": "python",
   "name": "music_lib_venv"
  },
  "language_info": {
   "codemirror_mode": {
    "name": "ipython",
    "version": 3
   },
   "file_extension": ".py",
   "mimetype": "text/x-python",
   "name": "python",
   "nbconvert_exporter": "python",
   "pygments_lexer": "ipython3",
   "version": "3.11.1"
  },
  "varInspector": {
   "cols": {
    "lenName": 16,
    "lenType": 16,
    "lenVar": 40
   },
   "kernels_config": {
    "python": {
     "delete_cmd_postfix": "",
     "delete_cmd_prefix": "del ",
     "library": "var_list.py",
     "varRefreshCmd": "print(var_dic_list())"
    },
    "r": {
     "delete_cmd_postfix": ") ",
     "delete_cmd_prefix": "rm(",
     "library": "var_list.r",
     "varRefreshCmd": "cat(var_dic_list()) "
    }
   },
   "types_to_exclude": [
    "module",
    "function",
    "builtin_function_or_method",
    "instance",
    "_Feature"
   ],
   "window_display": false
  }
 },
 "nbformat": 4,
 "nbformat_minor": 5
}
